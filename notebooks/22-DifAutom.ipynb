{
 "cells": [
  {
   "cell_type": "markdown",
   "source": [
    "# Diferenciación automática (o algorítmica)"
   ],
   "metadata": {}
  },
  {
   "cell_type": "markdown",
   "source": [
    "Los ejercicios que aparecen en este notebook se iniciarán en\n",
    "clase y constituyen la Tarea2."
   ],
   "metadata": {}
  },
  {
   "cell_type": "markdown",
   "source": [
    "## Motivación\n",
    "\n",
    "En la clase anterior, vimos que hay diferentes formas de implementar\n",
    "numéricamente la derivada de una función $f(x)$ en un punto $x_0$ y\n",
    "que éstas dependen de un parámetro $h$, que es la separación entre\n",
    "puntos cercanos.\n",
    "Ahí obtuvieron que el error absoluto en términos de $h$, cuando\n",
    "$h\\to 0$, tiene un comportamiento distinto según la definición\n",
    "que uno utiliza, y que de hecho puede ser \"contaminado\" por errores\n",
    "de numéricos."
   ],
   "metadata": {}
  },
  {
   "cell_type": "markdown",
   "source": [
    "Concretamente, obtuvimos que:\n",
    "- La \"derivada derecha\" converge linealmente con $h\\to 0$ al valor\n",
    "correcto de la derivada, es decir, el error es proporcional a\n",
    "$\\mathcal{O}(h)$. Sin embargo, para valores suficientemente pequeños\n",
    "de $h$, el valor obtenido de la derivada deja de tener sentido ya\n",
    "que se pierde exactitud.\n",
    "- La \"derivada simétrica\" converge cuadráticamente, es decir, el\n",
    "error escala como $\\mathcal{O}(h^2)$. Al igual que la derivada derecha,\n",
    "para $h$ suficientemente pequeña los\n",
    "[*errores de cancelación*](https://en.wikipedia.org/wiki/Loss_of_significance)\n",
    "debidos a la diferencia y hacen que el resultado pierda sentido.\n",
    "- La definición de la \"derivada compleja\" también converge\n",
    "cuadráticamente. A diferencia de las dos definiciones anteriores no\n",
    "exhibe problemas al considerar valores de $h$ muy pequeños. Esto se\n",
    "debe a que no involucra restas de números muy cercanos, y que dan\n",
    "lugar a errores de cancelación."
   ],
   "metadata": {}
  },
  {
   "cell_type": "markdown",
   "source": [
    "Los puntos anteriores muestran que al implementar un algoritmo\n",
    "numéricamente (usando números de punto flotante u otros con\n",
    "*precisión finita*) es importante la manera en que se hace,\n",
    "respecto a cuestiones de la convergencia y del manejo de errores\n",
    "numéricos. En este sentido, la \"derivada compleja\" da el resultado\n",
    "que más se acerca al exacto, incluso para valores de $h \\sim 10^{-16}$."
   ],
   "metadata": {}
  },
  {
   "cell_type": "markdown",
   "source": [
    "La pregunta es si podemos ir más allá y obtener el valor exacto\n",
    "en un sentido numérico, es decir, usando números de punto flotante,\n",
    "y en la medida de lo posible, hacer que esto sea independiente de $h$.\n",
    "Esto es, obtener como resultado el valor que más se acerca al valor\n",
    "que se obtendría usando números reales, excepto quizás por cuestiones\n",
    "inevitables de redondeo. Las técnicas que introduciremos se conocen como\n",
    "*diferenciación automática* o *algorítmica*."
   ],
   "metadata": {}
  },
  {
   "cell_type": "markdown",
   "source": [
    "Citando a [wikipedia](https://en.wikipedia.org/wiki/Automatic_differentiation):\n",
    "> ``Automatic differentiation (AD), also called algorithmic\n",
    "> differentiation or computational differentiation, is a set of\n",
    "> techniques to numerically evaluate the derivative of a function\n",
    "> specified by a computer program.''\n",
    "\n",
    "Diferenciación automática **no es** diferenciación numérica. Está\n",
    "basada en cálculos numéricos (evaluación de funciones en la computadora),\n",
    "pero **no** usa ninguna de las definiciones basadas een diferencias\n",
    "finitas, como las que vimos la clase anterior."
   ],
   "metadata": {}
  },
  {
   "cell_type": "markdown",
   "source": [
    "## Analogía con los números complejos"
   ],
   "metadata": {}
  },
  {
   "cell_type": "markdown",
   "source": [
    "Para ilustrar cómo funcionan los *números duales*, empezaremos usando\n",
    "el ejemplo de los números complejos: $z = a + \\mathrm{i} b$, donde $a$\n",
    "representa la parte real y $b$ la parte imaginaria del *número* $z$.\n",
    "\n",
    "Uno puede definir todas las operaciones aritméticas de la manera\n",
    "natural (a partir de los números reales), manteniendo las expresiones\n",
    "con $\\mathrm{i}$ factorizada. En el caso de la multiplicación (y la\n",
    "división) debemos explotar el hecho que $\\mathrm{i}^2=-1$.\n",
    "\n",
    "De esta manera, para $z = a + \\mathrm{i} b$ y $w = c + \\mathrm{i} d$,\n",
    "tenemos que,\n",
    "\n",
    "\\begin{eqnarray*}\n",
    "z + w & = & (a + \\mathrm{i} b) + (c + \\mathrm{i} d) = (a + c) + \\mathrm{i}(b + d),\\\\\n",
    "z \\cdot w & = & (a + \\mathrm{i} b)\\cdot (c + \\mathrm{i} d)\n",
    "  = ac + \\mathrm{i} (ad+bc) + \\mathrm{i}^2 b d\\\\\n",
    " & = & (ac - b d) + \\mathrm{i} (ad+bc).\n",
    "\\end{eqnarray*}\n",
    "\n",
    "Por último, vale también la pena recordar que, $\\mathbb{C}$ es\n",
    "*isomorfo* a $\\mathbb{R}^2$, esto es, uno puede asociar un punto\n",
    "en $\\mathbb{C}$ con uno en $\\mathbb{R}^2$ de manera unívoca, y\n",
    "visceversa."
   ],
   "metadata": {}
  },
  {
   "cell_type": "markdown",
   "source": [
    "## Números duales"
   ],
   "metadata": {}
  },
  {
   "cell_type": "markdown",
   "source": [
    "De manera análoga a los números complejos, introduciremos un par\n",
    "ordenado que llamaremos *números duales*, donde la primer componente\n",
    "es el valor de una función $f(x)$ evaluada en $x_0$, y la segunda es\n",
    "el valor de su derivada evaluada en el mismo punto. Esto es, definimos\n",
    "a los *duales* como:\n",
    "\n",
    "\\begin{equation}\n",
    "\\mathbb{D}f(x_0) = \\big( f_0, f'_0\\big) = \\big( f(x_0), f'(x_0)\\big) =\n",
    "f_0 + \\epsilon\\, f'_0,\n",
    "\\end{equation}\n",
    "\n",
    "donde $f_0 = f(x_0)$ y $f'_0=\\frac{d f}{d x}(x_0)$ y, en la segunda\n",
    "igualdad, $\\epsilon$ sirve para indicar la segunda componente del\n",
    "par ordenado. (En un sentido que se precisará más adelante, $\\epsilon$\n",
    "se comporta de una manera semejante a $\\mathrm{i}$ para los números\n",
    "complejos, con diferencias respecto al producto.)"
   ],
   "metadata": {}
  },
  {
   "cell_type": "markdown",
   "source": [
    "En particular, para la función constante $f(x)=c$ se debe cumplir\n",
    "que el dual asociado sea $\\mathbb{D}{c}(x_0)=(c,0)$, y para la función\n",
    "identidad $f(x)=x$ tendremos $\\mathbb{D}{x}(x_0)=(x_0,1)$. Vale la pena\n",
    "enfatizar que la función identidad es precisamente la variable\n",
    "independiente respecto a la que estamos derivando."
   ],
   "metadata": {}
  },
  {
   "cell_type": "markdown",
   "source": [
    "### Ejercicio 1\n",
    "\n",
    "- Implementen una nueva estructura paramétrica (`struct`) que\n",
    "llamaremos `Dual` y que definirá los duales. La estructura deberá\n",
    "ser paramétrica, y el parámetro deberá ser subtipo de `Real`. La\n",
    "parte que identifica a $f_0$ será llamada `fun`, y la correspondiente\n",
    "a $f'_0$ será `der`.\n",
    "\n",
    "La definición deberá incluir métodos que sean compatibles con las\n",
    "dos propiedades arriba mencionadas, es decir, que el dual de una\n",
    "constante sea $(c,0)$, y que el de la variable independiente sea\n",
    "$(x_0,1)$. Para lo segundo definiremos una función `dual` con la\n",
    "propiedad mencionada."
   ],
   "metadata": {}
  },
  {
   "cell_type": "markdown",
   "source": [
    "La siguiente celda ayuda en la definición de la estructura `Dual`,\n",
    "y la deberán completar de manera apropiada."
   ],
   "metadata": {}
  },
  {
   "outputs": [],
   "cell_type": "code",
   "source": [
    "\"\"\"\n",
    "   Dual{T<:Real}\n",
    "\n",
    "Definición de los duales, donde lo campos son:\n",
    "...\n",
    "\"\"\"\n",
    "struct Dual{#= código =#}\n",
    "    #= código =#\n",
    "end"
   ],
   "metadata": {},
   "execution_count": null
  },
  {
   "cell_type": "markdown",
   "source": [
    "- Definan un método que permita la promoción automática cuando\n",
    "las entradas para definir el dual no son del mismo tipo."
   ],
   "metadata": {}
  },
  {
   "cell_type": "markdown",
   "source": [
    "- Definan los métodos apropiados para que el Dual de una\n",
    "constante (`Real`), i.e., `Dual(c)` se comporte como debe, y\n",
    "que la función `dual` represente la función identidad (o\n",
    "variable independiente)."
   ],
   "metadata": {}
  },
  {
   "outputs": [],
   "cell_type": "code",
   "source": [
    "Dual(c::Real) = #= código =#\n",
    "\n",
    "\"\"\"\n",
    "    dual(x0) -> Dual(x0, 1)\n",
    "\n",
    "...\n",
    "\"\"\"\n",
    "function dual(x0)\n",
    "    #= código =#\n",
    "end"
   ],
   "metadata": {},
   "execution_count": null
  },
  {
   "cell_type": "markdown",
   "source": [
    "- Muestren que su código funciona con tests adecuados para crear\n",
    "duales, para promoverlos, y al definir el dual de un número y\n",
    "`dual` para la variable independiente. Para esto es útil usar la\n",
    "infraestructura que Julia provee; ver\n",
    "https://docs.julialang.org/en/v1/stdlib/Test/#Basic-Unit-Tests"
   ],
   "metadata": {}
  },
  {
   "outputs": [],
   "cell_type": "code",
   "source": [
    "using Test\n",
    "#= código con los tests =#"
   ],
   "metadata": {},
   "execution_count": null
  },
  {
   "cell_type": "markdown",
   "source": [
    "## Aritmética de duales\n",
    "\n",
    "De la definición, y recordando el significado de cada una de las\n",
    "componentes del par doble, tenemos que las operaciones aritméticas\n",
    "quedan definidas por:\n",
    "\n",
    "\\begin{eqnarray}\n",
    "    \\mathbb{D}{u} \\pm \\mathbb{D}{w} &=& \\big( u_0 \\pm w_0, \\, u'_0\\pm w'_0 \\big),\\\\\n",
    "    \\mathbb{D}{u} \\times \\mathbb{D}{w} &=& \\big( u_0 \\cdot w_0,\\, u_0 w'_0 +  w_0 u'_0 \\big),\\\\\n",
    "    \\frac{\\mathbb{D}{u}}{\\mathbb{D}{w}} &=& \\big( \\frac{u_0}{w_0},\\, \\frac{ u'_0 - (u_0/w_0)w'_0}{w_0}\\big),\\\\\n",
    "    {\\mathbb{D}{u}}^\\alpha &=& \\big( u_0^\\alpha,\\, \\alpha u_0^{\\alpha-1} u'_0 \\big).\\\\\n",
    "\\end{eqnarray}\n",
    "\n",
    "Noten que las dos últimas operaciones son consistentes con $\\epsilon^2=0$.\n",
    "\n",
    "Además, están los operadores unitarios, que satisfacen:\n",
    "\n",
    "\\begin{equation}\n",
    "   \\pm \\mathbb{D}{u} = \\big(\\pm u_0, \\pm u'_0 \\big).\n",
    "\\end{equation}"
   ],
   "metadata": {}
  },
  {
   "cell_type": "markdown",
   "source": [
    "### Ejercicio 2\n",
    "\n",
    "- Implementen *todas* las operaciones aritméticas definidas arriba;\n",
    "para `^` consideren sólo potencias enteras.\n",
    "Estas operaciones deben incluir las operaciones aritméticas que\n",
    "involucran un número cualquiera (`a :: Real`) y un dual (`b::Dual`),\n",
    "o dos duales. Esto se puede hacer implementando (sobrecargando)\n",
    "los métodos específicos para estos casos (¡y que sirven en cualquier\n",
    "órden!)."
   ],
   "metadata": {}
  },
  {
   "outputs": [],
   "cell_type": "code",
   "source": [
    "import Base: +, -, *, /, ^, ==\n",
    "\n",
    "#= código =#"
   ],
   "metadata": {},
   "execution_count": null
  },
  {
   "cell_type": "markdown",
   "source": [
    "- Implementen la comparación (equivalencia) entre duales (`==`)."
   ],
   "metadata": {}
  },
  {
   "outputs": [],
   "cell_type": "code",
   "source": [
    "#= código =#"
   ],
   "metadata": {},
   "execution_count": null
  },
  {
   "cell_type": "markdown",
   "source": [
    "- Incluyan tests que muestren que cada una de ellas está bien\n",
    "definida, y que sus resultados dan valores consistentes."
   ],
   "metadata": {}
  },
  {
   "outputs": [],
   "cell_type": "code",
   "source": [
    "#= código con los tests =#"
   ],
   "metadata": {},
   "execution_count": null
  },
  {
   "cell_type": "markdown",
   "source": [
    "- Evalúen la función `f(x) = (3x^2-8x+5)/(7x^3-1)` en el dual\n",
    "`x₀ = 1 + \\epsilon`, que representa la variable independiente\n",
    "en el punto $x_0=1$. Rehagan este inciso usando un dual\n",
    "en el punto $x_0=1$ usando aritmética de racionales."
   ],
   "metadata": {}
  },
  {
   "outputs": [],
   "cell_type": "code",
   "source": [
    "#= código con los tests =#"
   ],
   "metadata": {},
   "execution_count": null
  },
  {
   "cell_type": "markdown",
   "source": [
    "- Evalúen analíticamente (usando el álgebra  de duales) la\n",
    "función `f(x)` en la variable independiente en $x_0=1$, a fin\n",
    "de verificar que el resultado obtenido es el correcto."
   ],
   "metadata": {}
  },
  {
   "cell_type": "markdown",
   "source": [
    "### Ejercicio 3\n",
    "\n",
    "- Recordando la regla de la cadena, extiendan el uso de `Dual` a\n",
    "las funciones elementales: `sqrt`, `exp`, `log`, `sin`, `cos`,\n",
    "`tan`, `asin`, `acos`, `atan`, `sinh`, `cosh`, `tanh`, `asinh`,\n",
    "`acosh`, `atanh`."
   ],
   "metadata": {}
  },
  {
   "outputs": [],
   "cell_type": "code",
   "source": [
    "#= código =#"
   ],
   "metadata": {},
   "execution_count": null
  },
  {
   "cell_type": "markdown",
   "source": [
    "- Muestren que su implementación da los resultados que se esperan\n",
    "usando pruebas como hicieron en ejercicios anteriores."
   ],
   "metadata": {}
  },
  {
   "outputs": [],
   "cell_type": "code",
   "source": [
    "#= código =#"
   ],
   "metadata": {},
   "execution_count": null
  },
  {
   "cell_type": "markdown",
   "source": [
    "- Calculen la derivada de $h(x)=\\sin(x^3−2/x^6)$ en $x_0=2$. ¿Qué\n",
    "tan preciso es el resultado? (Pueden usar cualquier otra manera\n",
    "de obtener el resultado correcto, sólo tienen que ser claros\n",
    "en la explicación.)"
   ],
   "metadata": {}
  },
  {
   "outputs": [],
   "cell_type": "code",
   "source": [
    "#= código =#"
   ],
   "metadata": {},
   "execution_count": null
  },
  {
   "cell_type": "markdown",
   "source": [
    "- Grafiquen, para $x_0\\in[1,5]$ la función $h^\\prime(x)$."
   ],
   "metadata": {}
  },
  {
   "outputs": [],
   "cell_type": "code",
   "source": [
    "#= código =#"
   ],
   "metadata": {},
   "execution_count": null
  },
  {
   "cell_type": "markdown",
   "source": [
    "---\n",
    "\n",
    "*This notebook was generated using [Literate.jl](https://github.com/fredrikekre/Literate.jl).*"
   ],
   "metadata": {}
  }
 ],
 "nbformat_minor": 3,
 "metadata": {
  "language_info": {
   "file_extension": ".jl",
   "mimetype": "application/julia",
   "name": "julia",
   "version": "1.5.2"
  },
  "kernelspec": {
   "name": "julia-1.5",
   "display_name": "Julia 1.5.2",
   "language": "julia"
  }
 },
 "nbformat": 4
}
