{
 "cells": [
  {
   "cell_type": "markdown",
   "metadata": {},
   "source": [
    "# Tipos/Estructuras en Julia\n",
    "\n",
    "Vimos que **todo** en Julia tiene asociado un tipo. Aquí veremos algunas\n",
    "formas de crear *estructuras* que se acomoden a lo que necesitamos, lo que define\n",
    "tipos *ad-hoc*, y algunos trucos para que\n",
    "la ejecución del código sea rápida. La importancia de las estructuras radica en que\n",
    "uno puede diseñar estructuras adaptadas sin sacrificar rendimiento.\n",
    "\n",
    "La convención para definir las estructuras es que se escriban en estilos \"camello\",\n",
    "es decir, en que la primer letra de cada palabra empiece en mayúscula. Ejemplos de esto\n",
    "son `Float64`, `AbstractFloat` o `BigInt`.\n",
    "\n",
    "Antes de empezar vale la pena decir que las estructuras **no** pueden ser redefinidas o\n",
    "sobreescritass en una (la misma) sesión de Julia, sea en el REPL o en el Jupyter notebook;\n",
    "para poder hacerlo, se tiene que iniciar una nueva sesión, o reiniciar el kernel del Jupyter\n",
    "notebook. Es por esto que en este notebook, definiremos varias estructuras con campos\n",
    "esencialmente similares o incluso idénticos."
   ]
  },
  {
   "cell_type": "markdown",
   "metadata": {},
   "source": [
    "## Tipos inmutables y constructores internos"
   ]
  },
  {
   "cell_type": "markdown",
   "metadata": {},
   "source": [
    "La siguiente construcción muestra la definición más sencilla de una estructura, en este\n",
    "caso llamada `MiTipo`."
   ]
  },
  {
   "cell_type": "code",
   "execution_count": null,
   "metadata": {},
   "outputs": [],
   "source": [
    "struct MiTipo end"
   ]
  },
  {
   "cell_type": "markdown",
   "metadata": {},
   "source": [
    "Al igual que en otras partes en Julia, se requiere finalizar `struct` con `end`."
   ]
  },
  {
   "cell_type": "markdown",
   "metadata": {},
   "source": [
    "Para crear un objeto del tipo `MiTipo` se requiere un *constructor*, que\n",
    "simplemente es una función que devuelve un objeto del tipo especificado.\n",
    "Podemos usar `methods` para vere qué constructores hay definidos para `MiTipo`."
   ]
  },
  {
   "cell_type": "code",
   "execution_count": null,
   "metadata": {},
   "outputs": [],
   "source": [
    "methods(MiTipo)"
   ]
  },
  {
   "cell_type": "markdown",
   "metadata": {},
   "source": [
    "La estructura `MiTipo` consta de un método, lo que nos permite usarlo para construir\n",
    "objetos del tipo `MiTipo`. Claramente de la definición vemos que `MiTipo` no contiene\n",
    "ningún tipo de objeto (o campo); a este tipo de estructura se le llaman \"singleton\".\n",
    "Este tipo de estructuras es útil cuando queremos especializar ciertas funciones,\n",
    "es decir, explotar *dispatch*."
   ]
  },
  {
   "cell_type": "code",
   "execution_count": null,
   "metadata": {},
   "outputs": [],
   "source": [
    "mt = MiTipo()"
   ]
  },
  {
   "cell_type": "code",
   "execution_count": null,
   "metadata": {},
   "outputs": [],
   "source": [
    "typeof(mt)"
   ]
  },
  {
   "cell_type": "code",
   "execution_count": null,
   "metadata": {},
   "outputs": [],
   "source": [
    "mt isa MiTipo"
   ]
  },
  {
   "cell_type": "markdown",
   "metadata": {},
   "source": [
    "En general, cuando definimos un tipo nuevo es para que contenga cierto tipo de\n",
    "información. Esto se puede hacer de varias maneras."
   ]
  },
  {
   "cell_type": "code",
   "execution_count": null,
   "metadata": {},
   "outputs": [],
   "source": [
    "struct Particula1d\n",
    "    x :: Float64\n",
    "    v :: Float64\n",
    "end"
   ]
  },
  {
   "cell_type": "markdown",
   "metadata": {},
   "source": [
    "Es importante enfatizar que por cuestiones de eficiencia conviene que los tipos de\n",
    "los campos internos de la estructura sean concretos; como veremos más adelante, Julia\n",
    "permite definir estructuras paramétricas que dan más flexibilidad preservando el hecho\n",
    "de que los tipos sean concretos. Incluso, Julia permite insertar los tipos definidos\n",
    "en la jerarquía del árbol de tipos.\n",
    "\n",
    "A pesar de que el ejemplo de `Particula1d` incluye los campos `x` y `y`, y que ambos son\n",
    "del tipo `Float64`, los distintos campos de una estructura pueden tener tipos\n",
    "distintos asociados.\n",
    "\n",
    "El método que por default crea a un objeto `Particula1d` requiere que especifiquemos\n",
    "*en el mismo orden* en que fueron definidos *todos* los campos que lo componen."
   ]
  },
  {
   "cell_type": "code",
   "execution_count": null,
   "metadata": {},
   "outputs": [],
   "source": [
    "methods(Particula1d)"
   ]
  },
  {
   "cell_type": "code",
   "execution_count": null,
   "metadata": {},
   "outputs": [],
   "source": [
    "p1 = Particula1d(1.0, -2.4)"
   ]
  },
  {
   "cell_type": "code",
   "execution_count": null,
   "metadata": {},
   "outputs": [],
   "source": [
    "fieldnames(Particula1d)"
   ]
  },
  {
   "cell_type": "code",
   "execution_count": null,
   "metadata": {},
   "outputs": [],
   "source": [
    "p1.x  # muestra los que el campo `x` de `p1` contiene"
   ]
  },
  {
   "cell_type": "markdown",
   "metadata": {},
   "source": [
    "El tipo de estructura que acabamos de crear es *inmutable*, lo que significa que los\n",
    "campos individuales (cuando son *concretos*), no se pueden cambiar."
   ]
  },
  {
   "cell_type": "code",
   "execution_count": null,
   "metadata": {},
   "outputs": [],
   "source": [
    "isimmutable(p1)"
   ]
  },
  {
   "cell_type": "code",
   "execution_count": null,
   "metadata": {},
   "outputs": [],
   "source": [
    "p1.x = 2.0  # arroja un error dado que `p1` es inmutable"
   ]
  },
  {
   "cell_type": "markdown",
   "metadata": {},
   "source": [
    "La propiedad de inmutabilidad no es recursiva; así, si un objeto consiste de algún\n",
    "campo que es mutable (por ejemplo, `Array{T,N}`), entonces ese campo puede cambiar."
   ]
  },
  {
   "cell_type": "code",
   "execution_count": null,
   "metadata": {},
   "outputs": [],
   "source": [
    "struct Particula2d\n",
    "    x :: Array{Float64,1}\n",
    "    v :: Array{Float64,1}\n",
    "    function Particula2d(x :: Array{Float64,1}, v :: Array{Float64,1})\n",
    "        @assert length(x) == length(v) == 2\n",
    "        return new(x, v)\n",
    "    end\n",
    "end"
   ]
  },
  {
   "cell_type": "code",
   "execution_count": null,
   "metadata": {},
   "outputs": [],
   "source": [
    "p2 = Particula2d([1.0, 2.5], [1.0, 3.0])"
   ]
  },
  {
   "cell_type": "markdown",
   "metadata": {},
   "source": [
    "La función que aparece en el interior de la definición de la estructura *redefine* el\n",
    "constructor de default; a ésta se llama *constructor interno*. Hay que notar que\n",
    "el comando `new` *sólo* se utiliza en constructores internos (ya que `Particula2d` no\n",
    "existe aún)."
   ]
  },
  {
   "cell_type": "markdown",
   "metadata": {},
   "source": [
    "Dado que p2 es inmutable, sus campos internos no se pueden modificar de manera individual,\n",
    "pero sí sus componentes."
   ]
  },
  {
   "cell_type": "code",
   "execution_count": null,
   "metadata": {},
   "outputs": [],
   "source": [
    "p2.x = [2.0, 1.0]   # esto arroja un  error"
   ]
  },
  {
   "cell_type": "code",
   "execution_count": null,
   "metadata": {},
   "outputs": [],
   "source": [
    "p2.x[1] = 6.0   # aquí  cambiamos la primer componente\n",
    "p2"
   ]
  },
  {
   "cell_type": "code",
   "execution_count": null,
   "metadata": {},
   "outputs": [],
   "source": [
    "p2.x .= [2, 1]  # explotando broadcasting podemos cambiar *todo* el vector `x`\n",
    "p2"
   ]
  },
  {
   "cell_type": "markdown",
   "metadata": {},
   "source": [
    "Vale la pena enfatizar que esta manera de cambiar el contenido de un campo\n",
    "evita el constructor interno, y por lo mismo, puede llevar a *inconsistencias*.\n",
    "Por ejemplo, el constructor interno de `Particula2d` verifica que cada campo sea\n",
    "un vector de tamaño 2. Sin embargo, esto se puede cambiar, lo que puede \"romper\"\n",
    "el código."
   ]
  },
  {
   "cell_type": "code",
   "execution_count": null,
   "metadata": {},
   "outputs": [],
   "source": [
    "push!(p2.v, 3.0)\n",
    "\n",
    "p2    # Ahora, p2.v es un vector de tamaño 3 !?"
   ]
  },
  {
   "cell_type": "markdown",
   "metadata": {},
   "source": [
    "## Tipos mutables"
   ]
  },
  {
   "cell_type": "markdown",
   "metadata": {},
   "source": [
    "Todo lo dicho anteriormente se puede extender para definir tipos mutables. La única\n",
    "diferencia es la instrucción que usamos a la hora de definirlos: `mutable struct`."
   ]
  },
  {
   "cell_type": "code",
   "execution_count": null,
   "metadata": {},
   "outputs": [],
   "source": [
    "mutable struct ParticulaMutable2d\n",
    "    x :: Array{Float64,1}\n",
    "    v :: Array{Float64,1}\n",
    "    function ParticulaMutable2d(x :: Array{Float64,1}, v :: Array{Float64,1})\n",
    "        @assert length(x) == length(v) == 2\n",
    "        return new(x, v)\n",
    "    end\n",
    "end"
   ]
  },
  {
   "cell_type": "code",
   "execution_count": null,
   "metadata": {},
   "outputs": [],
   "source": [
    "mp2 = ParticulaMutable2d([1.0, 2.5], [1.0, 3.0])"
   ]
  },
  {
   "cell_type": "code",
   "execution_count": null,
   "metadata": {},
   "outputs": [],
   "source": [
    "mp2.x = [2, 1]   # no arroja ningún error!"
   ]
  },
  {
   "cell_type": "code",
   "execution_count": null,
   "metadata": {},
   "outputs": [],
   "source": [
    "mp2"
   ]
  },
  {
   "cell_type": "markdown",
   "metadata": {},
   "source": [
    "## Constructores paramétricos"
   ]
  },
  {
   "cell_type": "markdown",
   "metadata": {},
   "source": [
    "Como mencionamos arriba, en ocasiones uno quiere definir estructuras que contengan\n",
    "distintos tipos de los campos internos. Un ejemplo son los vectores, es decir, podemos\n",
    "definir un vector con números `Int`, `Array{Int,1}` , o con números de punto flotante\n",
    "`Array{Float64,1}`, o incluso matrices, `Array{Float64 2}`. Otro ejemplo podría ser\n",
    "tener la posibilidad de que los campos de `Particula1d` sean `Float64` o quizás `BigFloat`,\n",
    "o la posibilidad de que `Particula2d` pueda funcionar con vectores cuyas componentes son\n",
    "de varios tipos según la aplicación.\n",
    "\n",
    "En el ejemplo con `Particula2d`, dado que definimos los campos enteros como\n",
    "vectores de `Float64`, si tratamos de usar otro tipo de vectores, esto dará errores."
   ]
  },
  {
   "cell_type": "code",
   "execution_count": null,
   "metadata": {},
   "outputs": [],
   "source": [
    "Particula2d([1, 2], [1, 3])  # Esto da un error de método"
   ]
  },
  {
   "cell_type": "markdown",
   "metadata": {},
   "source": [
    "En principio uno *podría* usar en la definición de los campos que componen a la estructura\n",
    "algún tipo abstracto, como `Real`. Sin embargo, dado que el compilador *no* conoce la\n",
    "estructura específica, el código será ineficiente. Lo siguiente muestra un ejemplo del\n",
    "código que hay que evitar:\n",
    "\n",
    "   ```julia\n",
    "   struct EstructuraConCamposAbstracto\n",
    "       x :: Real\n",
    "       v :: Real\n",
    "   end\n",
    "   ```\n",
    "\n",
    "La alternativa es definir estructuras *paramétricas*, donde precisamente el parámetro\n",
    "de la estructura será especializado en algún tipo concreto, que se especifica al construir\n",
    "explícitamente el objeto, y que es subtipo de algún tipo abstracto."
   ]
  },
  {
   "cell_type": "code",
   "execution_count": null,
   "metadata": {},
   "outputs": [],
   "source": [
    "struct Particula1dParam{T <: Real}\n",
    "    x :: T\n",
    "    v :: T\n",
    "end"
   ]
  },
  {
   "cell_type": "code",
   "execution_count": null,
   "metadata": {},
   "outputs": [],
   "source": [
    "Particula1dParam(big(1.1), BigFloat(\"1.1\"))"
   ]
  },
  {
   "cell_type": "code",
   "execution_count": null,
   "metadata": {},
   "outputs": [],
   "source": [
    "Particula1dParam(2^64, 0)"
   ]
  },
  {
   "cell_type": "code",
   "execution_count": null,
   "metadata": {},
   "outputs": [],
   "source": [
    "Particula1dParam(Int128(2)^64, Int128(0))"
   ]
  },
  {
   "cell_type": "markdown",
   "metadata": {},
   "source": [
    "Noten que en los distintos ejemplos, en el tipo `Particula1dParam{T}` el parámetro `T`\n",
    "adquiere un tipo concreto que se utiliza a la hora de definirlo.\n",
    "\n",
    "Por defecto, los tipos definidos se acomodan abajo de `Any`. Sin embargo, uno puede\n",
    "lograr *insertar* la estructura que uno define en el árbol de tipos\n",
    "que existe en Julia. Esto permite que el tipo que uno define adquiera o *herede* cierto\n",
    "tipo de comportamiento y, por lo mismo, la posibilidad de usar ciertas funciones con la\n",
    "estructura definida."
   ]
  },
  {
   "cell_type": "code",
   "execution_count": null,
   "metadata": {},
   "outputs": [],
   "source": [
    "struct MiVector2d{T <: Real} <: AbstractArray{T,1}\n",
    "    x :: T\n",
    "    y :: T\n",
    "end"
   ]
  },
  {
   "cell_type": "code",
   "execution_count": null,
   "metadata": {},
   "outputs": [],
   "source": [
    "x = MiVector2d(1, 2)"
   ]
  },
  {
   "cell_type": "markdown",
   "metadata": {},
   "source": [
    "El error indica que no existe un método definido para `size(::MiVector2d)`, y suena\n",
    "*aparentemente* \"no relacionado\" con lo que hemos hecho. El error, de hecho, está relacionado\n",
    "con la visualización del objeto `x`, dado que podemos imprimir el valor que tiene cada\n",
    "uno de sus campos, y de hecho, `x` ha sido *definido*."
   ]
  },
  {
   "cell_type": "code",
   "execution_count": null,
   "metadata": {},
   "outputs": [],
   "source": [
    "x.x, x.y"
   ]
  },
  {
   "cell_type": "code",
   "execution_count": null,
   "metadata": {},
   "outputs": [],
   "source": [
    "isdefined(Main, :x)  # verifica si el símbolo `x` existe"
   ]
  },
  {
   "cell_type": "markdown",
   "metadata": {},
   "source": [
    "Para evitar  este error y poder visualizar visualizar objetos del tipo `MiVector2d`,\n",
    "sobrecargaremos las funciones `size` y `getindex`, es decir, las extenderemos para\n",
    "poderlas usar con `MiVector2d`, siguiendo la recomendación que se encuentra en\n",
    "[la documentación](https://docs.julialang.org/en/v1.5/manual/interfaces/#man-interface-array-1)."
   ]
  },
  {
   "cell_type": "code",
   "execution_count": null,
   "metadata": {},
   "outputs": [],
   "source": [
    "import Base: size  # la función `size` está definida en el módulo `Base`\n",
    "\n",
    "size(::MiVector2d{T}) where {T} = (2,)"
   ]
  },
  {
   "cell_type": "code",
   "execution_count": null,
   "metadata": {},
   "outputs": [],
   "source": [
    "# Esto ilustra otra manera de sobrecargar funciones, especificando el módulo\n",
    "# donde está definida la función.\n",
    "function Base.getindex(v::MiVector2d, i::Int)\n",
    "    if i == 1\n",
    "        return v.x\n",
    "    elseif i == 2\n",
    "        return v.y\n",
    "    else\n",
    "        throw(AssertError)\n",
    "    end\n",
    "end"
   ]
  },
  {
   "cell_type": "code",
   "execution_count": null,
   "metadata": {},
   "outputs": [],
   "source": [
    "x"
   ]
  },
  {
   "cell_type": "code",
   "execution_count": null,
   "metadata": {},
   "outputs": [],
   "source": [
    "y = MiVector2d(1.2, 2.1)"
   ]
  },
  {
   "cell_type": "markdown",
   "metadata": {},
   "source": [
    "Vale la pena ahora enfatizar lo siguiente: a pesar de que **no** hemos sobrecargado\n",
    "la suma (`:+`) entre dos (o más) objetos del tipo `MiVector2d`, la suma (y otras funciones)\n",
    "funcionan gracias a que hemos impuesto `MiVector2d{T} <: AbstractArray{T,1}`. Más aún,\n",
    "los parámetros de `x` y de `y` son distintos."
   ]
  },
  {
   "cell_type": "code",
   "execution_count": null,
   "metadata": {},
   "outputs": [],
   "source": [
    "x + y"
   ]
  },
  {
   "cell_type": "code",
   "execution_count": null,
   "metadata": {},
   "outputs": [],
   "source": [
    "x .+ y  # broadcasting también funciona"
   ]
  },
  {
   "cell_type": "code",
   "execution_count": null,
   "metadata": {},
   "outputs": [],
   "source": [
    "typeof(ans)"
   ]
  },
  {
   "cell_type": "markdown",
   "metadata": {},
   "source": [
    "Vale la pena también notar que el resultado es un `Array{Float64,1}` y no un\n",
    "`MiVector2d{Float64}`. Para logar que el resultado sea del tipo que queremos, debemos\n",
    "sobrecargar la función `:+`. El siguiente comando se encarga de hacer eso; vale la\n",
    "pena notar que no estamos especificando el parámetro de `MiVector2d`, cosa que también\n",
    "se puede hacer."
   ]
  },
  {
   "cell_type": "code",
   "execution_count": null,
   "metadata": {},
   "outputs": [],
   "source": [
    "Base.:+(x::MiVector2d, y::MiVector2d) = MiVector2d((x .+ y)...)"
   ]
  },
  {
   "cell_type": "code",
   "execution_count": null,
   "metadata": {},
   "outputs": [],
   "source": [
    "x + y"
   ]
  },
  {
   "cell_type": "markdown",
   "metadata": {},
   "source": [
    "Los ejemplos que hemos visto *no* son particularmente interesantes, aún, pero muestran\n",
    "que Julia permite adecuar las cosas a lo que requerimos, de manera más o menos sencilla."
   ]
  },
  {
   "cell_type": "markdown",
   "metadata": {},
   "source": [
    "---\n",
    "\n",
    "*This notebook was generated using [Literate.jl](https://github.com/fredrikekre/Literate.jl).*"
   ]
  }
 ],
 "metadata": {
  "kernelspec": {
   "display_name": "Julia 1.5.2",
   "language": "julia",
   "name": "julia-1.5"
  },
  "language_info": {
   "file_extension": ".jl",
   "mimetype": "application/julia",
   "name": "julia",
   "version": "1.5.2"
  }
 },
 "nbformat": 4,
 "nbformat_minor": 3
}
