{
 "cells": [
  {
   "cell_type": "markdown",
   "metadata": {},
   "source": [
    "# Introducción a Julia\n",
    "\n",
    "El texto canónico de referencia para cualquier cosa (duda o discusión)\n",
    "relacionada con Julia es la propia\n",
    "[documentación oficial de Julia](https://docs.julialang.org/en/v1/).\n",
    "\n",
    "## Asignación de variables"
   ]
  },
  {
   "cell_type": "code",
   "execution_count": 3,
   "metadata": {},
   "outputs": [],
   "source": [
    "r = 1.0; # Asigna 1.0 a la variable `r`"
   ]
  },
  {
   "cell_type": "code",
   "execution_count": 4,
   "metadata": {},
   "outputs": [
    {
     "data": {
      "text/plain": [
       "1.0"
      ]
     },
     "execution_count": 4,
     "metadata": {},
     "output_type": "execute_result"
    }
   ],
   "source": [
    "r  # regresa el valor asignado a `r`"
   ]
  },
  {
   "cell_type": "code",
   "execution_count": null,
   "metadata": {},
   "outputs": [],
   "source": [
    "circunferencia = 2 * pi * r\n",
    "circunferencia"
   ]
  },
  {
   "cell_type": "code",
   "execution_count": null,
   "metadata": {},
   "outputs": [],
   "source": [
    "areacirculo = π * r^2 # π se obtiene al hacer \\pi<TAB>"
   ]
  },
  {
   "cell_type": "code",
   "execution_count": null,
   "metadata": {},
   "outputs": [],
   "source": [
    "areacirculo / circunferencia"
   ]
  },
  {
   "cell_type": "code",
   "execution_count": null,
   "metadata": {},
   "outputs": [],
   "source": [
    "esta_clase = \"Temas Selectos de Física Computacional 2\"  # Una cadena (string)"
   ]
  },
  {
   "cell_type": "code",
   "execution_count": null,
   "metadata": {},
   "outputs": [],
   "source": [
    "exp(π)  # funciones elementales"
   ]
  },
  {
   "cell_type": "code",
   "execution_count": null,
   "metadata": {},
   "outputs": [],
   "source": [
    "1/2 + 1/3  # operaciones típicas"
   ]
  },
  {
   "cell_type": "code",
   "execution_count": null,
   "metadata": {},
   "outputs": [],
   "source": [
    "1//2 # número racional"
   ]
  },
  {
   "cell_type": "code",
   "execution_count": null,
   "metadata": {},
   "outputs": [],
   "source": [
    "1//2 + 1//3  # operaciones con números racionales"
   ]
  },
  {
   "cell_type": "code",
   "execution_count": null,
   "metadata": {},
   "outputs": [],
   "source": [
    "1//2 + 1/3  # suma un racional y un número de punto flotante"
   ]
  },
  {
   "cell_type": "code",
   "execution_count": null,
   "metadata": {},
   "outputs": [],
   "source": [
    "sqrt(-1.0)  # devuelve un error; vale la pena tratar de entenderlo!"
   ]
  },
  {
   "cell_type": "code",
   "execution_count": null,
   "metadata": {},
   "outputs": [],
   "source": [
    "ii = sqrt(Complex(-1.0)) # existen número complejos"
   ]
  },
  {
   "cell_type": "code",
   "execution_count": null,
   "metadata": {},
   "outputs": [],
   "source": [
    "cmplx = complex(1.0, 3.2) # Esto es equivalente a `1.0 + 3.2*im`"
   ]
  },
  {
   "cell_type": "code",
   "execution_count": null,
   "metadata": {},
   "outputs": [],
   "source": [
    "ii^2 # las potencias son con `^`"
   ]
  },
  {
   "cell_type": "code",
   "execution_count": null,
   "metadata": {},
   "outputs": [],
   "source": [
    "π # pi como \"irracional\""
   ]
  },
  {
   "cell_type": "code",
   "execution_count": null,
   "metadata": {},
   "outputs": [],
   "source": [
    "1.0 * π # pi como número de punto flotante"
   ]
  },
  {
   "cell_type": "code",
   "execution_count": null,
   "metadata": {},
   "outputs": [],
   "source": [
    "big(1.0) # números de precisión extendida"
   ]
  },
  {
   "cell_type": "code",
   "execution_count": null,
   "metadata": {},
   "outputs": [],
   "source": [
    "big(1) * pi # pi en precisión extendida"
   ]
  },
  {
   "cell_type": "code",
   "execution_count": null,
   "metadata": {},
   "outputs": [],
   "source": [
    "BigFloat(π) # lo mismo que la celda anterior"
   ]
  },
  {
   "cell_type": "markdown",
   "metadata": {},
   "source": [
    "Se pueden asignar vectores a variables"
   ]
  },
  {
   "cell_type": "code",
   "execution_count": null,
   "metadata": {},
   "outputs": [],
   "source": [
    "un_vector = [1, 2, 3, 4] # se definene con `[...]`"
   ]
  },
  {
   "cell_type": "code",
   "execution_count": null,
   "metadata": {},
   "outputs": [],
   "source": [
    "otro_vector = [1.0, 2, 3, 4 ] # Noten la salida; en este caso es un `Array{Float64,1}`"
   ]
  },
  {
   "cell_type": "code",
   "execution_count": null,
   "metadata": {},
   "outputs": [],
   "source": [
    "una_tupla = (1, 2, 3, 4) # una tupla"
   ]
  },
  {
   "cell_type": "code",
   "execution_count": null,
   "metadata": {},
   "outputs": [],
   "source": [
    "una_tupla_con_nombres = (a=1, b=3.0) # una tupla cuyas entradas tienen nombres"
   ]
  },
  {
   "cell_type": "markdown",
   "metadata": {},
   "source": [
    "La diferencia entre un vector y una tupla es que el vector es *mutable*, mientras\n",
    "que la tupla no. Eso lo que significa es que los elementos de un vector pueden ser\n",
    "cambiados o reasignados, y los de la tupla no."
   ]
  },
  {
   "cell_type": "code",
   "execution_count": null,
   "metadata": {},
   "outputs": [],
   "source": [
    "un_vector_de_vectores = [[1, 2], [3, 4]] # concateno verticalmente; vector de vectores"
   ]
  },
  {
   "cell_type": "code",
   "execution_count": null,
   "metadata": {},
   "outputs": [],
   "source": [
    "una_matriz = [[1, 2] [3, 4]] # concateno horizontalmente; noten el espacio entre los vectores columna"
   ]
  },
  {
   "cell_type": "code",
   "execution_count": null,
   "metadata": {},
   "outputs": [],
   "source": [
    "[1 3; 2 4] # Esto es equivalente a la línea anterior"
   ]
  },
  {
   "cell_type": "markdown",
   "metadata": {},
   "source": [
    "Los elementos de un arreglo o de una tupla se obtienen con `[...]`, especificando el\n",
    "índice del vector o tupla, o los índices de la matriz, o incluso un rango."
   ]
  },
  {
   "cell_type": "code",
   "execution_count": null,
   "metadata": {},
   "outputs": [],
   "source": [
    "un_vector[1]"
   ]
  },
  {
   "cell_type": "code",
   "execution_count": null,
   "metadata": {},
   "outputs": [],
   "source": [
    "una_tupla[end]"
   ]
  },
  {
   "cell_type": "code",
   "execution_count": null,
   "metadata": {},
   "outputs": [],
   "source": [
    "una_matriz[1,1]"
   ]
  },
  {
   "cell_type": "code",
   "execution_count": null,
   "metadata": {},
   "outputs": [],
   "source": [
    "una_matriz[2,2] = -5 # Esto *muta* el valor del elemento (2,2) a -5"
   ]
  },
  {
   "cell_type": "code",
   "execution_count": null,
   "metadata": {},
   "outputs": [],
   "source": [
    "una_tupla[1] = -3  # da un error, porque  las tuplas son inmutables"
   ]
  },
  {
   "cell_type": "markdown",
   "metadata": {},
   "source": [
    "Todo en Julia tiene asignado un *tipo*. Reconocer esto permite explotar variables\n",
    "ventajas que Julia ofrece"
   ]
  },
  {
   "cell_type": "code",
   "execution_count": null,
   "metadata": {},
   "outputs": [],
   "source": [
    "typeof(r) # un número de punto flotante `Float64`"
   ]
  },
  {
   "cell_type": "code",
   "execution_count": null,
   "metadata": {},
   "outputs": [],
   "source": [
    "typeof(pi) # un número irracional"
   ]
  },
  {
   "cell_type": "code",
   "execution_count": null,
   "metadata": {},
   "outputs": [],
   "source": [
    "typeof(1) # un entero; para procesadores antiguos, el resultado puede ser `Int32`"
   ]
  },
  {
   "cell_type": "code",
   "execution_count": null,
   "metadata": {},
   "outputs": [],
   "source": [
    "typeof(1//3) # Un número racional; noten que hay `Int64` en el tipo, que etiqueta al racional"
   ]
  },
  {
   "cell_type": "code",
   "execution_count": null,
   "metadata": {},
   "outputs": [],
   "source": [
    "typeof(ii) # Un número complejo; noten otra vez que incluye \"un apellido\""
   ]
  },
  {
   "cell_type": "code",
   "execution_count": null,
   "metadata": {},
   "outputs": [],
   "source": [
    "typeof(complex(1,3))"
   ]
  },
  {
   "cell_type": "code",
   "execution_count": null,
   "metadata": {},
   "outputs": [],
   "source": [
    "typeof(un_vector) # Un vector; aquí hay dos \"parámetros\" para distinguirlo, el segundo es la dimensión"
   ]
  },
  {
   "cell_type": "code",
   "execution_count": null,
   "metadata": {},
   "outputs": [],
   "source": [
    "typeof(una_matriz) # Una matriz es un `Array` de dimensión 2"
   ]
  },
  {
   "cell_type": "code",
   "execution_count": null,
   "metadata": {},
   "outputs": [],
   "source": [
    "typeof(una_tupla)"
   ]
  },
  {
   "cell_type": "code",
   "execution_count": null,
   "metadata": {},
   "outputs": [],
   "source": [
    "typeof(una_tupla_con_nombres)"
   ]
  },
  {
   "cell_type": "code",
   "execution_count": null,
   "metadata": {},
   "outputs": [],
   "source": [
    "typeof(esta_clase) # una cadena"
   ]
  },
  {
   "cell_type": "code",
   "execution_count": null,
   "metadata": {},
   "outputs": [],
   "source": [
    "typeof(+) # Los operadores (funciones) también tienen *su propio* tipo"
   ]
  },
  {
   "cell_type": "code",
   "execution_count": null,
   "metadata": {},
   "outputs": [],
   "source": [
    "typeof(exp) # ... y esto se aplica a todas las funciones"
   ]
  },
  {
   "cell_type": "code",
   "execution_count": null,
   "metadata": {},
   "outputs": [],
   "source": [
    "typeof(1.0)"
   ]
  },
  {
   "cell_type": "code",
   "execution_count": null,
   "metadata": {},
   "outputs": [],
   "source": [
    "typeof(Float64) # Incluso los \"tipos\" tienen un tipo asignado específico"
   ]
  },
  {
   "cell_type": "code",
   "execution_count": null,
   "metadata": {},
   "outputs": [],
   "source": [
    "typeof(DataType)"
   ]
  },
  {
   "cell_type": "code",
   "execution_count": null,
   "metadata": {},
   "outputs": [],
   "source": [
    "typeof(typeof(exp))"
   ]
  },
  {
   "cell_type": "markdown",
   "metadata": {},
   "source": [
    "Los tipos en Julia constituyen una estructura (en el sentido de grafos)\n",
    "que es un árbol; uno puede ver los tipos más generales, o más específicos,\n",
    "usando `supertype` y `subtypes`"
   ]
  },
  {
   "cell_type": "code",
   "execution_count": null,
   "metadata": {},
   "outputs": [],
   "source": [
    "supertype(Int)"
   ]
  },
  {
   "cell_type": "code",
   "execution_count": null,
   "metadata": {},
   "outputs": [],
   "source": [
    "supertype(Signed)"
   ]
  },
  {
   "cell_type": "code",
   "execution_count": null,
   "metadata": {},
   "outputs": [],
   "source": [
    "supertype(Integer)"
   ]
  },
  {
   "cell_type": "code",
   "execution_count": null,
   "metadata": {},
   "outputs": [],
   "source": [
    "supertype(Real)"
   ]
  },
  {
   "cell_type": "code",
   "execution_count": null,
   "metadata": {},
   "outputs": [],
   "source": [
    "supertype(Number)"
   ]
  },
  {
   "cell_type": "code",
   "execution_count": null,
   "metadata": {},
   "outputs": [],
   "source": [
    "supertype(Float64)"
   ]
  },
  {
   "cell_type": "code",
   "execution_count": null,
   "metadata": {},
   "outputs": [],
   "source": [
    "supertype(AbstractFloat)"
   ]
  },
  {
   "cell_type": "code",
   "execution_count": null,
   "metadata": {},
   "outputs": [],
   "source": [
    "supertype(esta_clase)"
   ]
  },
  {
   "cell_type": "code",
   "execution_count": null,
   "metadata": {},
   "outputs": [],
   "source": [
    "supertype(typeof(esta_clase))"
   ]
  },
  {
   "cell_type": "code",
   "execution_count": null,
   "metadata": {},
   "outputs": [],
   "source": [
    "supertype(AbstractString)"
   ]
  },
  {
   "cell_type": "markdown",
   "metadata": {},
   "source": [
    "Para saber si un objeto es de cierto tipo, uno utiliza la función `isa`"
   ]
  },
  {
   "cell_type": "code",
   "execution_count": 14,
   "metadata": {},
   "outputs": [
    {
     "data": {
      "text/plain": [
       "false"
      ]
     },
     "execution_count": 14,
     "metadata": {},
     "output_type": "execute_result"
    }
   ],
   "source": [
    "1.0 isa Int # esto equivale a isa(1.0, Int)"
   ]
  },
  {
   "cell_type": "code",
   "execution_count": null,
   "metadata": {},
   "outputs": [],
   "source": [
    "typeof(false) # `false` y `true` son de tipo `Bool`"
   ]
  },
  {
   "cell_type": "code",
   "execution_count": null,
   "metadata": {},
   "outputs": [],
   "source": [
    "supertype(Bool) # `Bool` es de tipo `Integer` ya que es equivalente a 0 o 1, y requiere 1 bit de memoria"
   ]
  },
  {
   "cell_type": "markdown",
   "metadata": {},
   "source": [
    "Para saber si un tipo es subtipo de otro, uno utiliza el operador `<:`; en algún sentido,\n",
    "este operador verifica si `Bool` está en una subrama de `Integer`"
   ]
  },
  {
   "cell_type": "code",
   "execution_count": null,
   "metadata": {},
   "outputs": [],
   "source": [
    "Bool <: Integer"
   ]
  },
  {
   "cell_type": "code",
   "execution_count": null,
   "metadata": {},
   "outputs": [],
   "source": [
    "Real <: Number"
   ]
  },
  {
   "cell_type": "code",
   "execution_count": null,
   "metadata": {},
   "outputs": [],
   "source": [
    "Float64 <: Number"
   ]
  },
  {
   "cell_type": "code",
   "execution_count": null,
   "metadata": {},
   "outputs": [],
   "source": [
    "BigFloat <: Real"
   ]
  },
  {
   "cell_type": "markdown",
   "metadata": {},
   "source": [
    "Los tipos pueden ser `concretos` o `abstractos`; la deferencia está en que los tipos\n",
    "concretos se pueden representar de una manera *concreta* en memoria; los tipos abstractos\n",
    "sirven para poder \"generalizar ciertas funciones a varios tipos."
   ]
  },
  {
   "cell_type": "code",
   "execution_count": null,
   "metadata": {},
   "outputs": [],
   "source": [
    "isconcretetype(Float64), isconcretetype(Real)"
   ]
  },
  {
   "cell_type": "code",
   "execution_count": null,
   "metadata": {},
   "outputs": [],
   "source": [
    "isabstracttype(Number)"
   ]
  },
  {
   "cell_type": "markdown",
   "metadata": {},
   "source": [
    "## Funciones"
   ]
  },
  {
   "cell_type": "markdown",
   "metadata": {},
   "source": [
    "En Julia, una función mapea una tupla de elementos de entrada, en una salida."
   ]
  },
  {
   "cell_type": "markdown",
   "metadata": {},
   "source": [
    "Julia permite distintas formas de definir una función. La manera estándar es\n",
    "usando la instrucción `function`, y el bloque que define la función se termina con `end`.\n",
    "El resultado de una función se especifica con `return`, que si se trata de la última\n",
    "línea que define a la función (antes del `end`) se puede omitir. La convención\n",
    "a la hora de nombrar funciones es que éstas usen sólo minúsculas."
   ]
  },
  {
   "cell_type": "code",
   "execution_count": null,
   "metadata": {},
   "outputs": [],
   "source": [
    "\"\"\"\n",
    "área_círculo(r)\n",
    "\n",
    "Calcula el área de un círculo de radio `r`\n",
    "\"\"\"\n",
    "function área_círculo(r)\n",
    "    return π * r^2\n",
    "end"
   ]
  },
  {
   "cell_type": "markdown",
   "metadata": {},
   "source": [
    "En Julia, el formato de la función (por ejemplo, la indentación) no es obligatoria; sin\n",
    "embargo, se recomienda usarla ya que hace más sencilla la lectura del código.\n",
    "Lo que aparece entre comillas triples `\"\"\"` se llama `docstrings`, y es simplemente\n",
    "la descripción de lo que hace la función. Si bien no es obligatorio, es altamente\n",
    "recomendable incluir docstrings en el código. (Vale la pena notar, además, que hay dos\n",
    "caracteres UTF (no ASCII), `á` e `í`, en el nombre de la función.)"
   ]
  },
  {
   "cell_type": "code",
   "execution_count": null,
   "metadata": {},
   "outputs": [],
   "source": [
    "área_círculo(2)"
   ]
  },
  {
   "cell_type": "code",
   "execution_count": null,
   "metadata": {},
   "outputs": [],
   "source": [
    "área_círculo(BigFloat(2.0))"
   ]
  },
  {
   "cell_type": "markdown",
   "metadata": {},
   "source": [
    "Es importante señalar que la `r` en la definición de `área_círculo` no es la misma\n",
    "variable que la `r` que asignamos al principio y cuyo valor *sigue* siendo `1.0`. Los\n",
    "argumentos de una función se tratan como nuevas variables, cuyo valor es idéntico\n",
    "al que se pasa con la función."
   ]
  },
  {
   "cell_type": "code",
   "execution_count": null,
   "metadata": {},
   "outputs": [],
   "source": [
    "r"
   ]
  },
  {
   "cell_type": "markdown",
   "metadata": {},
   "source": [
    "Sin embargo, es posible que una función modifique variables que son *mutables*, como\n",
    "por ejemplo, las componentes de un vector. En este caso, la convención recomienda\n",
    "usar `!` al final del nombre de la función, justamente para indicar que al menos\n",
    "un argumento de entrada de la función puede ser modificado."
   ]
  },
  {
   "cell_type": "markdown",
   "metadata": {},
   "source": [
    "Uno puede también definir funciones que no requieren ningún argumento."
   ]
  },
  {
   "cell_type": "code",
   "execution_count": null,
   "metadata": {},
   "outputs": [],
   "source": [
    "mi_nombre() = \"Luis\""
   ]
  },
  {
   "cell_type": "code",
   "execution_count": null,
   "metadata": {},
   "outputs": [],
   "source": [
    "mi_nombre()"
   ]
  },
  {
   "cell_type": "markdown",
   "metadata": {},
   "source": [
    "También vale la pena decir que los operdores, como `+` o `^`, son funciones. Por lo mismo,\n",
    "uno puede usarlas incluyendo paréntesis (que es lo que se llama *infix form*) de\n",
    "manera completamente equivalente:"
   ]
  },
  {
   "cell_type": "code",
   "execution_count": null,
   "metadata": {},
   "outputs": [],
   "source": [
    "1 + 2 + 3"
   ]
  },
  {
   "cell_type": "code",
   "execution_count": null,
   "metadata": {},
   "outputs": [],
   "source": [
    "+(1, 2, 3) # forma alterna de ejecutar la instrucción anterior"
   ]
  },
  {
   "cell_type": "markdown",
   "metadata": {},
   "source": [
    "### Broadcasting"
   ]
  },
  {
   "cell_type": "markdown",
   "metadata": {},
   "source": [
    "La siguiente instrucción arroja un error, ya que implícitamente hemos asumido que\n",
    "la función recibirá un número `r` (aunque ésto no lo hemos especificado), y estamos\n",
    "tratando de usarla con una matriz."
   ]
  },
  {
   "cell_type": "code",
   "execution_count": null,
   "metadata": {},
   "outputs": [],
   "source": [
    "área_círculo([1.0 2.0; 3.1 1.0])"
   ]
  },
  {
   "cell_type": "markdown",
   "metadata": {},
   "source": [
    "Julia ofrece la posibilidad de aplicar la misma función *elemento a elemento* a las\n",
    "componentes de un vector, tupla, matriz, u otros arreglos más generales. Para esto se usa un\n",
    "punto `.` (típicamente) después del nombre de la función y antes del paréntesis que\n",
    "especifican los argumentos. El concepto asociado a esto se llama \"broadcasting\"."
   ]
  },
  {
   "cell_type": "code",
   "execution_count": null,
   "metadata": {},
   "outputs": [],
   "source": [
    "área_círculo.([1.0 2.0; 3.1 1.0])  # broadcasting sobre una matriz"
   ]
  },
  {
   "cell_type": "markdown",
   "metadata": {},
   "source": [
    "Una manera, totalmente equivalente, de definir `área_círculo` es:"
   ]
  },
  {
   "cell_type": "code",
   "execution_count": null,
   "metadata": {},
   "outputs": [],
   "source": [
    "área_círculo(r) = π * r^2"
   ]
  },
  {
   "cell_type": "markdown",
   "metadata": {},
   "source": [
    "que tiene la ventaja de ser más compacta. (Noten el mensaje de que sólo hay un método\n",
    "definido para la función `área_círculo`.)"
   ]
  },
  {
   "cell_type": "markdown",
   "metadata": {},
   "source": [
    "### Funciones anónimas"
   ]
  },
  {
   "cell_type": "markdown",
   "metadata": {},
   "source": [
    "En ciertos casos, por ejemplo cuando una función requiere a otra para ser ejecutada,\n",
    "puede ser conveniente definir funciones anónimas, esto es, sin nombre. Las siguientes\n",
    "definciones equivalentes definen a la misma función anónima, que corrresponde a\n",
    "`f(x) = x^2 + 2x -1`"
   ]
  },
  {
   "cell_type": "code",
   "execution_count": null,
   "metadata": {},
   "outputs": [],
   "source": [
    "x -> x^2 + 2x -1"
   ]
  },
  {
   "cell_type": "code",
   "execution_count": null,
   "metadata": {},
   "outputs": [],
   "source": [
    "function (x)\n",
    "    x^2 + 2x -1\n",
    "end"
   ]
  },
  {
   "cell_type": "markdown",
   "metadata": {},
   "source": [
    "Una función anónima, que depende de múltiples argumentos, se escribe `(x,y) -> x^2 + y^2`,\n",
    "mientras que una función anónima sin argumentos se escribe como `() -> π`."
   ]
  },
  {
   "cell_type": "markdown",
   "metadata": {},
   "source": [
    "### Tuplas como argumentos y funciones con argumentos variables (varags)"
   ]
  },
  {
   "cell_type": "markdown",
   "metadata": {},
   "source": [
    "Es posible definir funciones de tal manera que uno pase como único argumento una tupla\n",
    "al ejecutar la función. Hay diversas posibilidades; la siguiente es una que explota\n",
    "(y a la vez impone) la estructura que debe tener la tupla."
   ]
  },
  {
   "cell_type": "code",
   "execution_count": null,
   "metadata": {},
   "outputs": [],
   "source": [
    "distancia((max, min)) = max - min"
   ]
  },
  {
   "cell_type": "code",
   "execution_count": null,
   "metadata": {},
   "outputs": [],
   "source": [
    "distancia((5, 2))"
   ]
  },
  {
   "cell_type": "markdown",
   "metadata": {},
   "source": [
    "Es útil tener la opción de escribir funciones que puedan tener un número arbitrario de\n",
    "argumentos; al número variable de argumentos se le llama *varargs*. Como ejemplo (tomado\n",
    "de la [documentación oficial](https://docs.julialang.org/en/v1/manual/functions/#Varargs-Functions))\n",
    "definiremos la función"
   ]
  },
  {
   "cell_type": "code",
   "execution_count": null,
   "metadata": {},
   "outputs": [],
   "source": [
    "lala(a, x...) = (a, x) # `...` que aparecen en la definición se llaman \"slurp\""
   ]
  },
  {
   "cell_type": "code",
   "execution_count": null,
   "metadata": {},
   "outputs": [],
   "source": [
    "lala(1, ()) # esto es equivalente a `lala(1,)`"
   ]
  },
  {
   "cell_type": "code",
   "execution_count": null,
   "metadata": {},
   "outputs": [],
   "source": [
    "lala(1, (2,))"
   ]
  },
  {
   "cell_type": "code",
   "execution_count": null,
   "metadata": {},
   "outputs": [],
   "source": [
    "lala(1, 2, (3, 4, 5, 6, 7))"
   ]
  },
  {
   "cell_type": "markdown",
   "metadata": {},
   "source": [
    "La siguiente ejecución de `lala` distribuye los argumentos de la tupla; esto se\n",
    "llama `splat`"
   ]
  },
  {
   "cell_type": "code",
   "execution_count": null,
   "metadata": {},
   "outputs": [],
   "source": [
    "lala((1,2,3)...) # equivalente a lala(1,(2,3))"
   ]
  },
  {
   "cell_type": "markdown",
   "metadata": {},
   "source": [
    "### Métodos, *multiple dispatch*, y estabilidad de tipo"
   ]
  },
  {
   "cell_type": "markdown",
   "metadata": {},
   "source": [
    "Julia permite utilizar *la misma función* en distintos contextos. Por ejemplo,\n",
    "con `*` podemos multiplicar dos números, o concatenar cadenas."
   ]
  },
  {
   "cell_type": "code",
   "execution_count": null,
   "metadata": {},
   "outputs": [],
   "source": [
    "2 * 3"
   ]
  },
  {
   "cell_type": "code",
   "execution_count": null,
   "metadata": {},
   "outputs": [],
   "source": [
    "\"dos por tres es igual a \" * \"seis\""
   ]
  },
  {
   "cell_type": "markdown",
   "metadata": {},
   "source": [
    "Esta multiplicidad en el uso de una función significa que la función tiene\n",
    "definidos varios métodos."
   ]
  },
  {
   "cell_type": "markdown",
   "metadata": {},
   "source": [
    "Julia permite definir métodos especializados respecto al tipo\n",
    "del argumento de entrada a la función. Por ejemplo, la siguiente función `ff`\n",
    "muestra el valor del argumento, e imprime su valor al cuadrado."
   ]
  },
  {
   "cell_type": "code",
   "execution_count": null,
   "metadata": {},
   "outputs": [],
   "source": [
    "ff(x) = (@show(x); x^2)"
   ]
  },
  {
   "cell_type": "markdown",
   "metadata": {},
   "source": [
    "Vale la pena notar que usamos paréntesis para usar la forma \"infix\" y\n",
    "definir de la función `ff`, que consta de dos instrucciones, que son\n",
    "separadas por `;`. El macro `@show` lo que hace es precisamente imprimir\n",
    "(sustituyenco código a la hora de \"leer\" el código) la variable `x`."
   ]
  },
  {
   "cell_type": "markdown",
   "metadata": {},
   "source": [
    "Esta función, por ejemplo, la podemos aplicar a un número de punto flotante o\n",
    "a uno complejo:"
   ]
  },
  {
   "cell_type": "code",
   "execution_count": null,
   "metadata": {},
   "outputs": [],
   "source": [
    "ff(1.1)"
   ]
  },
  {
   "cell_type": "code",
   "execution_count": null,
   "metadata": {},
   "outputs": [],
   "source": [
    "ff(1.1 + 3im)"
   ]
  },
  {
   "cell_type": "markdown",
   "metadata": {},
   "source": [
    "Supongamos que queremos que el comportamiento de esta función, para números complejos,\n",
    "devuelva el módulo al cuadrado, en lugar de su cuadrado. En este caso debemos\n",
    "entonces definir un método especializado para el caso en que `x` sea un número\n",
    "complejo. Esto lo hacemos utilizando `::` para especificar/restringir uno o varios\n",
    "argumentos de la función a un tipo; es aquí que los \"tipos abstractos\" suelen\n",
    "ser útiles."
   ]
  },
  {
   "cell_type": "code",
   "execution_count": null,
   "metadata": {},
   "outputs": [],
   "source": [
    "ff(x::Complex) = (@show(x); x*x')  # x' es el complejo conjugado"
   ]
  },
  {
   "cell_type": "code",
   "execution_count": null,
   "metadata": {},
   "outputs": [],
   "source": [
    "ff(1.1 + 3im)"
   ]
  },
  {
   "cell_type": "markdown",
   "metadata": {},
   "source": [
    "Para además particularizar en el posible parámetro del tipo, uno usa la siguiente\n",
    "forma:"
   ]
  },
  {
   "cell_type": "code",
   "execution_count": null,
   "metadata": {},
   "outputs": [],
   "source": [
    "ff(x::Complex{T}) where {T<:BigFloat} = (@show(typeof(x)); ff(Float64(x)))"
   ]
  },
  {
   "cell_type": "code",
   "execution_count": null,
   "metadata": {},
   "outputs": [],
   "source": [
    "ff(big(1.1) + 3im)"
   ]
  },
  {
   "cell_type": "markdown",
   "metadata": {},
   "source": [
    "El hecho de que los métodos se aplican de manera distinta\n",
    "*según* el *tipo* de los argumentos es lo que se llama *multiple dispatch*. Lograr\n",
    "código rápido en Julia no significa escribir métodos específicos según el tipo\n",
    "--aunque a veces esto es útil--, sino que el tipo del resultado de una función\n",
    "esté determinado *sólamente* por el tipo de los argumentos de entrada. Es esto\n",
    "lo que se conoce como *estabilidad de tipo*."
   ]
  },
  {
   "cell_type": "markdown",
   "metadata": {},
   "source": [
    "Como ejemplo de esto último, construyamos una función que *no* es estable según\n",
    "el tipo; para esto, utilizaremos un block `if`-`else`-`end`."
   ]
  },
  {
   "cell_type": "code",
   "execution_count": null,
   "metadata": {},
   "outputs": [],
   "source": [
    "function mi_sqrt(x)\n",
    "    @show(x)\n",
    "    if x < 0\n",
    "        return sqrt(Complex(x))  # El resultado es `Complex{...}`\n",
    "    else\n",
    "        return sqrt(x) # El resultado es del mismo tipo que `x` (`AbstractFloat`)\n",
    "    end\n",
    "end"
   ]
  },
  {
   "cell_type": "code",
   "execution_count": null,
   "metadata": {},
   "outputs": [],
   "source": [
    "mi_sqrt(-1//1)"
   ]
  },
  {
   "cell_type": "code",
   "execution_count": null,
   "metadata": {},
   "outputs": [],
   "source": [
    "mi_sqrt(1//1)"
   ]
  },
  {
   "cell_type": "markdown",
   "metadata": {},
   "source": [
    "El macro `@code_warntype` ayuda a encontrar problemas respecto a la estabilidad de tipo."
   ]
  },
  {
   "cell_type": "code",
   "execution_count": null,
   "metadata": {},
   "outputs": [],
   "source": [
    "@code_warntype mi_sqrt(1//1)"
   ]
  },
  {
   "cell_type": "markdown",
   "metadata": {},
   "source": [
    "### Ambigüedades"
   ]
  },
  {
   "cell_type": "markdown",
   "metadata": {},
   "source": [
    "Consideremos las siguientes definiciones de la función `gg`:"
   ]
  },
  {
   "cell_type": "code",
   "execution_count": null,
   "metadata": {},
   "outputs": [],
   "source": [
    "gg(a, b::Any)              = \"fallback\"   # default\n",
    "gg(a::Number, b::Number)   = \"a and b are both `Number`s\"\n",
    "gg(a::Number, b)           = \"a is a `Number`\"\n",
    "gg(a, b::Number)           = \"b is a `Number`\"\n",
    "gg(a::Integer, b::Integer) = \"a and b are both `Integer`s\""
   ]
  },
  {
   "cell_type": "markdown",
   "metadata": {},
   "source": [
    "Uno puede obtener información sobre los métodos que tiene definidos la función\n",
    "usando `methods(gg)`"
   ]
  },
  {
   "cell_type": "code",
   "execution_count": null,
   "metadata": {},
   "outputs": [],
   "source": [
    "methods(gg)  # Describe los distintos métodos de una función"
   ]
  },
  {
   "cell_type": "code",
   "execution_count": null,
   "metadata": {},
   "outputs": [],
   "source": [
    "gg(1.5, 2)"
   ]
  },
  {
   "cell_type": "code",
   "execution_count": null,
   "metadata": {},
   "outputs": [],
   "source": [
    "gg(\"2\", 1.5)"
   ]
  },
  {
   "cell_type": "code",
   "execution_count": null,
   "metadata": {},
   "outputs": [],
   "source": [
    "gg(1.0, \"2\")"
   ]
  },
  {
   "cell_type": "code",
   "execution_count": null,
   "metadata": {},
   "outputs": [],
   "source": [
    "gg(1, 2)"
   ]
  },
  {
   "cell_type": "code",
   "execution_count": null,
   "metadata": {},
   "outputs": [],
   "source": [
    "gg(\"Hello\", \"World!\")"
   ]
  },
  {
   "cell_type": "code",
   "execution_count": null,
   "metadata": {},
   "outputs": [],
   "source": [
    "@which f(\"2\", 1.5) # El macro `@which` permite identificar qué método se está usando"
   ]
  },
  {
   "cell_type": "markdown",
   "metadata": {},
   "source": [
    "A veces, uno puede definir la función de tal manera que Julia no encuentre qué método\n",
    "aplicar en el sentido de cuál es el *más concreto* respecto al tipo de los argumentos.\n",
    "En ese caso, hay un `MethodError` dado que los métodos son *ambiguos*."
   ]
  },
  {
   "cell_type": "code",
   "execution_count": null,
   "metadata": {},
   "outputs": [],
   "source": [
    "gg(x::Int, y::Any) = println(\"int\")\n",
    "gg(x::Any, y::String) = println(\"string\")"
   ]
  },
  {
   "cell_type": "code",
   "execution_count": null,
   "metadata": {},
   "outputs": [],
   "source": [
    "gg(3, \"test\")"
   ]
  },
  {
   "cell_type": "markdown",
   "metadata": {},
   "source": [
    "Vale la pena notar que  en el mensaje de error, está  una posible solución para resolver\n",
    "la ambigüedad."
   ]
  },
  {
   "cell_type": "markdown",
   "metadata": {},
   "source": [
    "### Ejercicios"
   ]
  },
  {
   "cell_type": "markdown",
   "metadata": {},
   "source": [
    "1. Escriban una función que proporcione el área y el volumen de un círculo de manera\n",
    "simultánea, es decir, que la función regrese esos dos valores.\n",
    "\n",
    "1. Llamando a la función que hicieron en el ejercicio anterior `mifunc`, ¿qué obtienen\n",
    "(tipo de resultado) al hacer la asignación `res = mifunc(1.0)`?\n",
    "\n",
    "1. ¿Qué asignación pueden hacer para separar los resultados de `mifunc`?\n",
    "\n",
    "1. ¿Cuál es el tipo de `mifunc`? Hint: ¿Cuál es el tipo de `(mifunct, typeof(mifunc))`?\n",
    "\n",
    "1. ¿Qué tipo de resultado se obtiene al ejecutar la siguiente función?\n",
    "    ```julia\n",
    "    println(\"Nada\")\n",
    "    ```\n",
    "1. Analicen qué representa el resultado obtenido al ejecutar la siguiente función:\n",
    "    ```julia\n",
    "    map(first ∘ reverse ∘ uppercase, split(\"you can compose functions like this\"))\n",
    "    ```"
   ]
  },
  {
   "cell_type": "markdown",
   "metadata": {},
   "source": [
    "## Control del flujo"
   ]
  },
  {
   "cell_type": "markdown",
   "metadata": {},
   "source": [
    "### Condicionales"
   ]
  },
  {
   "cell_type": "markdown",
   "metadata": {},
   "source": [
    "Los condicionales en cualquier lenguaje de programación permiten decidir\n",
    "si ciertas partes del código se evalúan o no. En Julia, los condicionales tienen\n",
    "la estructura `if-else-end`, como vimos en un ejemplo arriba, y cada condición\n",
    "debe regresar una variable booleana (`true` o `false`)."
   ]
  },
  {
   "cell_type": "code",
   "execution_count": null,
   "metadata": {},
   "outputs": [],
   "source": [
    "function compara_x_y(x, y)\n",
    "    if x < y\n",
    "        println(\"x es menor que y\")\n",
    "    elseif x > y\n",
    "        println(\"x es mayor que y\")\n",
    "    else\n",
    "        println(\"x es igual a y\")\n",
    "    end\n",
    "end"
   ]
  },
  {
   "cell_type": "code",
   "execution_count": null,
   "metadata": {},
   "outputs": [],
   "source": [
    "compara_x_y(1.0, 2.3)"
   ]
  },
  {
   "cell_type": "markdown",
   "metadata": {},
   "source": [
    "En ocasiones, uno requiere regresar un valor dependiendo de una condición, y si\n",
    "ésta no se cumple, entonces se regresa otro valor. Esto se puede hacer con la\n",
    "construcción anterior haciendo las asignaciones pertinentes, o también, de una\n",
    "manera más corta, a través del \"operador ternario\"."
   ]
  },
  {
   "cell_type": "code",
   "execution_count": null,
   "metadata": {},
   "outputs": [],
   "source": [
    "positivo_o_negativo(x::Real) = x > zero(x) ? \"positivo\" : \"negativo\""
   ]
  },
  {
   "cell_type": "code",
   "execution_count": null,
   "metadata": {},
   "outputs": [],
   "source": [
    "positivo_o_negativo(-1.2)"
   ]
  },
  {
   "cell_type": "markdown",
   "metadata": {},
   "source": [
    "La función anterior se puede igualmente escribir en una línea con `ifelse`"
   ]
  },
  {
   "cell_type": "code",
   "execution_count": null,
   "metadata": {},
   "outputs": [],
   "source": [
    "positivo_o_negativo(x::Real) = ifelse(x > zero(x), \"positivo\", \"negativo\")"
   ]
  },
  {
   "cell_type": "markdown",
   "metadata": {},
   "source": [
    "Hay otra forma más de condicional, que es la llamada evaluación de \"corto circuito\".\n",
    "En ciertos casos, uno requiere evaluar expresiones que involucran dos variables\n",
    "booleanas. Esto se puede conseguir con los operadores `&` (*and*) y `|` (*or*), por\n",
    "ejemplo."
   ]
  },
  {
   "cell_type": "code",
   "execution_count": null,
   "metadata": {},
   "outputs": [],
   "source": [
    "false & true"
   ]
  },
  {
   "cell_type": "markdown",
   "metadata": {},
   "source": [
    "Por otro lado, en ciertas ocasiones es rendundante evaluar *ambos* lados del operador\n",
    "lógico, por ejemplo, cuando la primera resulta en `false` y evaluamos `and`,\n",
    "o si resulta un `true` y evaluamos un `or`. En este caso, basta con la primer evaluación\n",
    "para decidir el resultado; # de ahí que se llamen de *corto circuito*. Concretamente,\n",
    "\n",
    "- `bool_a && bool_b` significa que `b` se evaluará si `a == true`, ya que si `a == false` el resultado es `false`;\n",
    "- `bool_a || bool_b` significa que `b` se evaluará si `a == false`, ya que si `a == true` el resultado es `true`."
   ]
  },
  {
   "cell_type": "markdown",
   "metadata": {},
   "source": [
    "Para ilustrar esto, usaremos las funciones `verdadero(x)` y `falso(x)`, que imprimen\n",
    "el valor de entrada `x`, y que regresan `true` o `false`, respectivamente."
   ]
  },
  {
   "cell_type": "code",
   "execution_count": null,
   "metadata": {},
   "outputs": [],
   "source": [
    "verdadero(x) = (println(x); true)\n",
    "falso(x) = (println(x); false)"
   ]
  },
  {
   "cell_type": "code",
   "execution_count": null,
   "metadata": {},
   "outputs": [],
   "source": [
    "verdadero(1) && verdadero(2) # Dos operaciones"
   ]
  },
  {
   "cell_type": "code",
   "execution_count": null,
   "metadata": {},
   "outputs": [],
   "source": [
    "verdadero(1) && falso(2) # Dos operaciones"
   ]
  },
  {
   "cell_type": "code",
   "execution_count": null,
   "metadata": {},
   "outputs": [],
   "source": [
    "falso(1) && verdadero(2) # Una operación"
   ]
  },
  {
   "cell_type": "code",
   "execution_count": null,
   "metadata": {},
   "outputs": [],
   "source": [
    "falso(1) && falso(2) # Una operación"
   ]
  },
  {
   "cell_type": "code",
   "execution_count": null,
   "metadata": {},
   "outputs": [],
   "source": [
    "verdadero(1) || verdadero(2)  # Una operación"
   ]
  },
  {
   "cell_type": "code",
   "execution_count": null,
   "metadata": {},
   "outputs": [],
   "source": [
    "verdadero(1) || falso(2)  # Una operación"
   ]
  },
  {
   "cell_type": "code",
   "execution_count": null,
   "metadata": {},
   "outputs": [],
   "source": [
    "falso(1) || verdadero(2) # Dos operaciones"
   ]
  },
  {
   "cell_type": "code",
   "execution_count": null,
   "metadata": {},
   "outputs": [],
   "source": [
    "falso(1) || falso(2) # Dos operaciones"
   ]
  },
  {
   "cell_type": "markdown",
   "metadata": {},
   "source": [
    "### Ciclos"
   ]
  },
  {
   "cell_type": "markdown",
   "metadata": {},
   "source": [
    "Hay dos tipos de ciclos: el ciclo `while` y el ciclo `for`. Si bien éstos son en algún\n",
    "sentido equivalentes, a veces conviene usar uno en lugar del otro. *Ambas formas*, igual\n",
    "que el *bloque* `if`, requiere terminar con `end`, que marca donde acaba el código que\n",
    "se repite."
   ]
  },
  {
   "cell_type": "code",
   "execution_count": null,
   "metadata": {},
   "outputs": [],
   "source": [
    "glob_i = 1  # Esta variable debe definirse *antes* del `while`\n",
    "while glob_i <= 5\n",
    "    println(glob_i)\n",
    "    glob_i += 1\n",
    "    v_out = glob_i\n",
    "end\n",
    "glob_i"
   ]
  },
  {
   "cell_type": "code",
   "execution_count": null,
   "metadata": {},
   "outputs": [],
   "source": [
    "v_out  # Regresa un `UndefVarError` ya que `v_out` sólo existe dentro del `while`"
   ]
  },
  {
   "cell_type": "code",
   "execution_count": null,
   "metadata": {},
   "outputs": [],
   "source": [
    "for loc_i in 1:5\n",
    "    println(loc_i)\n",
    "    v_out = loc_i\n",
    "end"
   ]
  },
  {
   "cell_type": "code",
   "execution_count": null,
   "metadata": {},
   "outputs": [],
   "source": [
    "v_out  # Regresa un `UndefVarError` por la misma razón que antes"
   ]
  },
  {
   "cell_type": "code",
   "execution_count": null,
   "metadata": {},
   "outputs": [],
   "source": [
    "loc_i  # Regresa el mismo error, ya que el contador `loc_i` sólo existe dentro del `for`"
   ]
  },
  {
   "cell_type": "markdown",
   "metadata": {},
   "source": [
    "Los errores que aparecen tienen que ver con el hecho de que los bloques `for` o `while`\n",
    "definen cierto ámbito para el contenido; en inglés, un *scope*. Por default ese\n",
    "ámbito es local. Entonces, las variables `v_out` no existen fuera de ese ámbito,\n",
    "que es la razón del error. Para poderlas usar fuera, entonces, debemos definirlas antes."
   ]
  },
  {
   "cell_type": "markdown",
   "metadata": {},
   "source": [
    "En cuanto a `1:5`, éste define un `UnitRange{Int64}` que es una manera muy conveniente\n",
    "(memoria) de definir un iterador. Si uno quiere que el iterador no tenga pasos de\n",
    "tamaño 1, uno utiliza `1:2:5`, lo que daría saltos de 2 en 2, empezando en 1 y terminando\n",
    "en 5."
   ]
  },
  {
   "cell_type": "markdown",
   "metadata": {},
   "source": [
    "Los ciclos `for` permiten *iterar* sobre objetos iterables."
   ]
  },
  {
   "cell_type": "code",
   "execution_count": null,
   "metadata": {},
   "outputs": [],
   "source": [
    "for i in [1,2,3]\n",
    "    println(i)\n",
    "end"
   ]
  },
  {
   "cell_type": "code",
   "execution_count": null,
   "metadata": {},
   "outputs": [],
   "source": [
    "animales = [\"perro\", \"gato\", \"conejo\"]\n",
    "for i ∈ animales   # ∈ se obtiene con `\\in<TAB>`\n",
    "    println(i)\n",
    "end"
   ]
  },
  {
   "cell_type": "markdown",
   "metadata": {},
   "source": [
    "A veces es necesario interrumpir un ciclo, o quizás sólo no ejecutar parte del ciclo.\n",
    "Esto se logra con `break` y `continue`."
   ]
  },
  {
   "cell_type": "code",
   "execution_count": null,
   "metadata": {},
   "outputs": [],
   "source": [
    "jj = 0\n",
    "for j = 1:1000\n",
    "    println(j)\n",
    "    j >= 5 && break\n",
    "    jj = j\n",
    "end\n",
    "jj"
   ]
  },
  {
   "cell_type": "code",
   "execution_count": null,
   "metadata": {},
   "outputs": [],
   "source": [
    "jj = 0\n",
    "for i = 1:10\n",
    "    i % 3 != 0 && continue   ## i % 3 es equivalente a mod(i, 3)\n",
    "    println(i)\n",
    "    jj = i\n",
    "end\n",
    "jj"
   ]
  },
  {
   "cell_type": "markdown",
   "metadata": {},
   "source": [
    "Es posible encadenar ejecuciones de varios ciclos `for` en una línea, formando el\n",
    "producto cartesiano de los iterados."
   ]
  },
  {
   "cell_type": "code",
   "execution_count": null,
   "metadata": {},
   "outputs": [],
   "source": [
    "for i = 1:2, j = 1:5\n",
    "    println((i, j))\n",
    "end"
   ]
  },
  {
   "cell_type": "markdown",
   "metadata": {},
   "source": [
    "Es posible construir vectores usando ciclos `for` directamente en una línea; a esto\n",
    "se le llama `comprehensions`. Por ejemplo:"
   ]
  },
  {
   "cell_type": "code",
   "execution_count": null,
   "metadata": {},
   "outputs": [],
   "source": [
    "v_tupla = [ (i,j) for i = 1:2, j = 1:5]"
   ]
  },
  {
   "cell_type": "markdown",
   "metadata": {},
   "source": [
    "En el caso en que el vector corresponda a un rango, es mejor usar rangos, justamente\n",
    "para evitar el uso de memoria. Esto lo podemos ver usando `sizeof`."
   ]
  },
  {
   "cell_type": "code",
   "execution_count": null,
   "metadata": {},
   "outputs": [],
   "source": [
    "sizeof( [i for i=1:1_000_000] )"
   ]
  },
  {
   "cell_type": "code",
   "execution_count": null,
   "metadata": {},
   "outputs": [],
   "source": [
    "sizeof( 1:1_000_000 )"
   ]
  },
  {
   "cell_type": "markdown",
   "metadata": {},
   "source": [
    "## Ejercicios"
   ]
  },
  {
   "cell_type": "markdown",
   "metadata": {},
   "source": [
    "1. Construyan una función qué, a partir de un tipo de estructura (e.g., `Int64`), muestre\n",
    "el árbol de estructuras que están por arriba de él, es decir, que son más generales. hasta\n",
    "llegar a `Any`. Ilustren su función con varios ejemplos.\n",
    "\n",
    "1. Usando la siguiente función (tomada de\n",
    "[aquí](https://github.com/crstnbr/JuliaWorkshop19/blob/master/1_One/1_types_and_dispatch.ipynb))\n",
    "```julia\n",
    "function show_subtypetree(T, level=1, indent=4)\n",
    "    level == 1 && println(T)\n",
    "    for s in subtypes(T)\n",
    "        println(join(fill(\" \", level * indent)) * string(s))\n",
    "        show_subtypetree(s, level+1, indent)\n",
    "    end\n",
    "end\n",
    "```\n",
    "- ¿Qué pueden decir de los tipos que son concretos en cuanto a su posición en el árbol de tipos?\n",
    "\n",
    "1. Escriban una función que aproxime la raíz cuadrada de `a` usando el método iterativo Babilonio:\n",
    "- (1) Empiecen con un número arbitrario *positivo* `x`.\n",
    "- (2) Reemplacen `x` por  `(x+a/x)/2` .\n",
    "- (3) Repitan el paso anterior usando el nuevo valor de `x`.\n",
    "(Recuerden definir algún criterio de parada de la función.)"
   ]
  },
  {
   "cell_type": "markdown",
   "metadata": {},
   "source": [
    "## Manejo de Paquetes (Pkg)"
   ]
  },
  {
   "cell_type": "markdown",
   "metadata": {},
   "source": [
    "Julia tiene un potente manejador de paquetes, [`Pkg`](https://docs.julialang.org/en/v1/stdlib/Pkg/),\n",
    "que está concebido para permitir\n",
    "la reproducibilidad del código, entre otras propiedades. Hay varias paqueterías que\n",
    "están incluidas en Julia, pero separadas del lenguaje que se carga por default, y éstas\n",
    "constituyen lo que se llama la librería estándard (*standard library*). Esto es, son\n",
    "paqueterías que *no* debemos instalar, pero sí se deben cargar si hacen falta."
   ]
  },
  {
   "cell_type": "markdown",
   "metadata": {},
   "source": [
    "Empezaremos cargando `Pkg`, para lo que usaremos la instrucción `using`."
   ]
  },
  {
   "cell_type": "code",
   "execution_count": null,
   "metadata": {},
   "outputs": [],
   "source": [
    "using Pkg"
   ]
  },
  {
   "cell_type": "markdown",
   "metadata": {},
   "source": [
    "Lo que haré a continuación es *definir* un proyecto, el del curso, que incluirá todas\n",
    "las paqueterías que (por ahora) nos serán necesarias para empezar, y que poco a poco\n",
    "iremos ampliando. Para hacer esto, \"activaremos\" el directorio local y \"instanciaremos\"\n",
    "(*instantiate*) el repositorio, lo que creará los archivos \"Project.toml\" y \"Manifest.toml\",\n",
    "que son la base de la reproducibilidad en Julia. Subiéndolos a GitHub, en principio tendremos\n",
    "todos compartiremos los archivos necesarios, para hacer que todo funcione para todos."
   ]
  },
  {
   "cell_type": "code",
   "execution_count": null,
   "metadata": {},
   "outputs": [],
   "source": [
    "Pkg.activate(\"..\")  # Activa el directorio \"..\" respecto al lugar donde estamos (clases/)"
   ]
  },
  {
   "cell_type": "markdown",
   "metadata": {},
   "source": [
    "En la instrucción anterior, estamos ejecutando la función `activate`, del módulo `Pkg`,\n",
    "que vive dentro de él y que no se exporta."
   ]
  },
  {
   "cell_type": "markdown",
   "metadata": {},
   "source": [
    "Ahora, instanciaremos el repositorio; lo que esto hace es actualizar los archivos\n",
    "\"Project.toml\" y \"Manifest.toml\"."
   ]
  },
  {
   "cell_type": "code",
   "execution_count": null,
   "metadata": {},
   "outputs": [],
   "source": [
    "Pkg.instantiate() # crea o actualiza \"Project.toml\" y \"Manifest.toml\""
   ]
  },
  {
   "cell_type": "markdown",
   "metadata": {},
   "source": [
    "Ahora *instalaremos* una paquetería que usaremos para *generar* los notebooks del curso:\n",
    "[Literate.jl](https://github.com/fredrikekre/Literate.jl):"
   ]
  },
  {
   "cell_type": "code",
   "execution_count": null,
   "metadata": {},
   "outputs": [],
   "source": [
    "Pkg.add(\"Literate\")"
   ]
  },
  {
   "cell_type": "markdown",
   "metadata": {},
   "source": [
    "La instrucción anterior instala la paquetería `Literate.jl` en el proyecto del curso;\n",
    "además, actualiza \"Project.toml\" con la información de la paquetería que se instaló,\n",
    "y \"Manifest.toml\" con todas las dependencias que puede tener `Literate`.\n",
    "Otras paqueterías se instalan de la misma manera."
   ]
  },
  {
   "cell_type": "markdown",
   "metadata": {},
   "source": [
    "Para saber qué paquetes tenemos instalados, usamos `Pkg.status()`."
   ]
  },
  {
   "cell_type": "code",
   "execution_count": null,
   "metadata": {},
   "outputs": [],
   "source": [
    "Pkg.status()"
   ]
  },
  {
   "cell_type": "markdown",
   "metadata": {},
   "source": [
    "Cuando iniciemos cualquier actividad del curso, será importante activar nuevamente\n",
    "el projecto, lo que esencialmente permitirá *cargar* (con `using`) las librerías\n",
    "que usaremos."
   ]
  },
  {
   "cell_type": "markdown",
   "metadata": {},
   "source": [
    "---\n",
    "\n",
    "*This notebook was generated using [Literate.jl](https://github.com/fredrikekre/Literate.jl).*"
   ]
  }
 ],
 "metadata": {
  "kernelspec": {
   "display_name": "Julia 1.5.2",
   "language": "julia",
   "name": "julia-1.5"
  },
  "language_info": {
   "file_extension": ".jl",
   "mimetype": "application/julia",
   "name": "julia",
   "version": "1.5.2"
  }
 },
 "nbformat": 4,
 "nbformat_minor": 3
}
