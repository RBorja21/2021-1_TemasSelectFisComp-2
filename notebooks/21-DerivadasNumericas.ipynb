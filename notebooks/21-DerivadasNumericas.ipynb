{
 "cells": [
  {
   "cell_type": "markdown",
   "source": [
    "# Derivación numérica"
   ],
   "metadata": {}
  },
  {
   "outputs": [],
   "cell_type": "code",
   "source": [
    "using Pkg\n",
    "Pkg.activate(\"../\")"
   ],
   "metadata": {},
   "execution_count": null
  },
  {
   "cell_type": "markdown",
   "source": [
    "## Motivación: el método de Newton\n",
    "\n",
    "Un problema común es el de encontrar los ceros de una función. Una situación\n",
    "concreta donde esto ocurre es cuando buscamos los máximos o mínimos de una\n",
    "función $f(x)$. Aplicaciones de esto se encuentran en redes neuronales, en\n",
    "las que uno *entrena* la red buscando el mínimo de una función de costo.\n",
    "\n",
    "Un método común para obtener los ceros de una función es el método de Newton,\n",
    "que requiere evaluar sucesivamente tanto la función $f(x)$ como su derivada\n",
    "$f^\\prime(x)$. Si bien uno puede escribir la función $f^\\prime(x)$ en un\n",
    "programa, uno quisiera tener formas de evaluar la derivada a partir de la\n",
    "propia función $f(x)$, lo que ocurre a menudo en redes neuronales si uno quiere\n",
    "introducir nuevas funciones para el entrenamiento de la red."
   ],
   "metadata": {}
  },
  {
   "cell_type": "markdown",
   "source": [
    "En este notebook estudiaremos algunos algoritmos para obtener *aproximaciones*\n",
    "de las derivadas de una función $f(x)$ numéricamente."
   ],
   "metadata": {}
  },
  {
   "cell_type": "markdown",
   "source": [
    "## Derivadas numéricas\n",
    "\n",
    "### Derivada *derecha*\n",
    "\n",
    "Como bien sabemos del curso de cálculo, la derivada se define como:\n",
    "\n",
    "$$\n",
    "f^\\prime(x0) = \\frac{{\\rm d}f}{{\\rm d}x}(x_0) \\equiv \\lim_{h\\to 0}\n",
    "\\frac{f(x_0+h)-f(x_0)}{h}.\n",
    "$$\n",
    "\n",
    "Numéricamente, es difícil implementar el límite. Olvidándolo por el momento,\n",
    "el lado derecho de la definición es relativamente sencillo de implementar\n",
    "numéricamente. Esencialmente requerimos evaluar $f(x)$ en $x_0$ y en $x_0+h$,\n",
    "donde $h$ es un número (de punto flotante) pequeño. La sutileza está entonces\n",
    "en implementar por el límite $h\\to 0$."
   ],
   "metadata": {}
  },
  {
   "cell_type": "markdown",
   "source": [
    "#### Ejercicio 1\n",
    "\n",
    "- Definan una función `derivada_derecha` que calcule *numéricamente* la\n",
    "derivada de la función $f(x)$, de una variable (a priori arbitaria), en\n",
    "un punto $x_0$. Para esto, utilizaremos la aproximación de la derivada\n",
    "que se basa en su definición, *omitiendo* el límite. Esta función entonces\n",
    "dependerá de `f`, la función que queremos derivar, `x0` el punto donde queremos\n",
    "derivar la función, y `h`, que es el incremento *finito* respecto a $x_0$.\n",
    "Es decir, calcularemos la derivada usando la aproximación\n",
    "$$\n",
    "f'(x_0) \\approx \\frac{\\Delta f_+}{\\Delta x} \\equiv \\frac{f(x_0+h)-f(x_0)}{h},\n",
    "$$\n",
    "Este método se conoce por el nombre de *diferencias finitas*.\n",
    "\n",
    "- A fin de simular el $\\lim_{h\\to 0}$, consideren distintos valores de $h$\n",
    "cada vez más próximos a cero. Para cada valor de $h$ calculen el error\n",
    "absoluto del cálculo numérico, es decir, la diferencia del valor calculado\n",
    "respecto al valor *exacto*. Ilustren esto con una gráfica del error,\n",
    "para $f(x) = 3x^3-2$, en $x_0=1$. ¿Cuál es el valor de `h` (aproximadamente)\n",
    "donde obtienen el menor error del cálculo?"
   ],
   "metadata": {}
  },
  {
   "cell_type": "markdown",
   "source": [
    "### Derivada *simétrica*\n",
    "\n",
    "Una definición alternativa a la dada anteriormente consiste en *simetrizar*\n",
    "la ocurrencia de $h$ en la definición. Podemos entonces definir a la derivada\n",
    "usando la definición\n",
    "\n",
    "$$\n",
    "f^\\prime(x_0) \\equiv \\lim_{h\\to 0} \\frac{f(x_0+h)-f(x_0-h)}{2h}.\n",
    "$$"
   ],
   "metadata": {}
  },
  {
   "cell_type": "markdown",
   "source": [
    "#### Ejercicio 2\n",
    "\n",
    "- Repitan el ejercicio anterior usando como base la definición simétrica de\n",
    "la derivada. Esto es, escriban una función `derivada_simetrica` y estudien\n",
    "gráficamente las propiedades de convergencia de este método.\n",
    "\n",
    "- ¿Por qué es correcto afirmar que la derivada simétrica resulta en una\n",
    "mejor aproximación que la derivada derecha? Argumenten usando\n",
    "consideraciones analíticas."
   ],
   "metadata": {}
  },
  {
   "cell_type": "markdown",
   "source": [
    "### Derivada de *paso complejo*\n",
    "\n",
    "Consideremos la siguiente definición de la derivada, que podemos llamar  *derivada de\n",
    "paso complejo*\n",
    "\n",
    "$$\n",
    "f^\\prime(x_0) \\equiv \\lim_{h\\to 0} \\textrm{Im}\\left(\\frac{f(x_0+i h)}{h}\\right),\n",
    "$$\n",
    "\n",
    "donde $i^2 = -1$, e $\\textrm{Im}(x)$ es la parte imaginaria de $x$."
   ],
   "metadata": {}
  },
  {
   "cell_type": "markdown",
   "source": [
    "#### Ejercicio 3\n",
    "\n",
    "- Argumenten, si es posible de manera analítica, qué motiva definir la derivada así.\n",
    "\n",
    "- Escriban una función que implemente la definición anterior, y estudien gráficamente\n",
    "sus propiedades de convergencia.\n",
    "\n",
    "- ¿Qué ventajas y desventajas puede tener usar esta definición para calcular\n",
    "derivadas?"
   ],
   "metadata": {}
  },
  {
   "cell_type": "markdown",
   "source": [
    "#### Ejercicio 4\n",
    "\n",
    "- ¿Cómo afecta usar las distintas definiciones de la derivada al método\n",
    "de Newton, esto es, si en lugar de calcular $f^\\prime(x)$ a partir de las reglas\n",
    "de cálculo, usamos los valores *numéricos* que las funciones anteriores devuelven?\n",
    "Consideren en particular la dependencia de $h$ para las distintas definiciones."
   ],
   "metadata": {}
  },
  {
   "cell_type": "markdown",
   "source": [
    "---\n",
    "\n",
    "*This notebook was generated using [Literate.jl](https://github.com/fredrikekre/Literate.jl).*"
   ],
   "metadata": {}
  }
 ],
 "nbformat_minor": 3,
 "metadata": {
  "language_info": {
   "file_extension": ".jl",
   "mimetype": "application/julia",
   "name": "julia",
   "version": "1.5.2"
  },
  "kernelspec": {
   "name": "julia-1.5",
   "display_name": "Julia 1.5.2",
   "language": "julia"
  }
 },
 "nbformat": 4
}
